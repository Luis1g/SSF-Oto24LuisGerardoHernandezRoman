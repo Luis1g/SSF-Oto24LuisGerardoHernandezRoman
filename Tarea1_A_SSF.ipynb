{
 "cells": [
  {
   "cell_type": "code",
   "execution_count": null,
   "id": "bcd8d5d9-ba31-4230-bdd8-18b19c436a0f",
   "metadata": {},
   "outputs": [],
   "source": [
    "# Metodo de Horner\n",
    "def horner (coeffs, x):\n",
    "    acc = 0\n",
    "    for c in reversed(coeffs):\n",
    "        acc = acc * x + c\n",
    "    return acc\n",
    "print (horner((-19, 7, -4, 6),3))\n"
   ]
  },
  {
   "cell_type": "code",
   "execution_count": 44,
   "id": "bb296fdd-a717-4a9f-836a-356b02be5a7f",
   "metadata": {},
   "outputs": [
    {
     "name": "stdout",
     "output_type": "stream",
     "text": [
      "128\n"
     ]
    }
   ],
   "source": [
    "# Metodo que consiste en calcular cada término del polinomio por separado y luego sumarlos\n",
    "def poly_naive(A, x):\n",
    "    p = 0\n",
    "    for i, a in enumerate(A):\n",
    "        p += (x ** i) * a\n",
    "    return p\n",
    "print (poly_naive((-19, 7, -4, 6),3))"
   ]
  },
  {
   "cell_type": "code",
   "execution_count": 46,
   "id": "0a99d1bf-2a4f-4f34-98d9-0e87b220cab1",
   "metadata": {},
   "outputs": [
    {
     "name": "stdout",
     "output_type": "stream",
     "text": [
      "128\n"
     ]
    }
   ],
   "source": [
    "# Metodo iterativo\n",
    "def poly_iter (A, x):\n",
    "    p = 0\n",
    "    xn = 1\n",
    "    for a in A:\n",
    "        p += xn * a \n",
    "        xn *= x \n",
    "    return p\n",
    "print (poly_iter((-19, 7, -4, 6),3))"
   ]
  },
  {
   "cell_type": "code",
   "execution_count": 51,
   "id": "912d19fb-cb51-488a-b39a-e147772235df",
   "metadata": {},
   "outputs": [
    {
     "name": "stdout",
     "output_type": "stream",
     "text": [
      "128\n"
     ]
    }
   ],
   "source": [
    "# Regla de Horner\n",
    "def poly_horner(A, x):\n",
    "    p = A[-1]\n",
    "    i = len(A) - 2\n",
    "    while i >= 0:\n",
    "        p = p *x + A[i]\n",
    "        i -= 1\n",
    "    return p\n",
    "print (poly_horner((-19, 7, -4, 6),3))"
   ]
  },
  {
   "cell_type": "code",
   "execution_count": 7,
   "id": "05d9d604-65c6-4d91-bc3b-f905ceb0f210",
   "metadata": {},
   "outputs": [
    {
     "name": "stdout",
     "output_type": "stream",
     "text": [
      "50\n"
     ]
    }
   ],
   "source": [
    "# Una vez comprobado todos los metodos con las misma variables, se realizan 2 ejemplos mas\n",
    "#Ejemplo 1\n",
    "# Para resolver el polinomio P(2)= 3x^4 − 2x^3 + 5x^2 − 4x + 6\n",
    "def poly_horner(A, x):\n",
    "    p = A[-1]\n",
    "    i = len(A) - 2\n",
    "    while i >= 0:\n",
    "        p = p *x + A[i]\n",
    "        i -= 1\n",
    "    return p\n",
    "print (poly_horner((6, -4, 5, -2, 3),2))"
   ]
  },
  {
   "cell_type": "code",
   "execution_count": 9,
   "id": "e9717c6a-af1f-4491-83af-e60ab4639b52",
   "metadata": {},
   "outputs": [
    {
     "name": "stdout",
     "output_type": "stream",
     "text": [
      "50\n"
     ]
    }
   ],
   "source": [
    "# Metodo de Horner Ejemplo 1\n",
    "def horner (coeffs, x):\n",
    "    acc = 0\n",
    "    for c in (coeffs): #Si agregamos el reversed el polinomia ya no es el de el ejemplo\n",
    "        acc = acc * x + c\n",
    "    return acc\n",
    "print (horner((3, -2, 5, -4, 6),2))\n"
   ]
  },
  {
   "cell_type": "code",
   "execution_count": 13,
   "id": "14384f3e-c0fe-48a6-879b-a2a9a6476f23",
   "metadata": {},
   "outputs": [
    {
     "name": "stdout",
     "output_type": "stream",
     "text": [
      "85\n"
     ]
    }
   ],
   "source": [
    "# Ejemplo 2;\n",
    "#  R(3)=2x^3 + 4x^2 − 5x + 10\n",
    "def poly_horner(A, x):\n",
    "    p = A[-1]\n",
    "    i = len(A) - 2\n",
    "    while i >= 0:\n",
    "        p = p *x + A[i]\n",
    "        i -= 1\n",
    "    return p\n",
    "print (poly_horner((10, -5, 4, 2),3))\n",
    "\n"
   ]
  },
  {
   "cell_type": "code",
   "execution_count": 17,
   "id": "c6143028-5f8d-449a-8f4a-dea8c579d0d6",
   "metadata": {},
   "outputs": [
    {
     "name": "stdout",
     "output_type": "stream",
     "text": [
      "239\n"
     ]
    }
   ],
   "source": [
    "# Metodo de Horner Ejemplo 3\n",
    "def horner (coeffs, x):\n",
    "    acc = 0\n",
    "    for c in (coeffs): #Se agrega el reversed a proposito para observar el cambio a R(3)= 10x^3 - 5x^2 + 4x +2\n",
    "        acc = acc * x + c\n",
    "    return acc\n",
    "print (horner((10, -5, 4, 2),3))"
   ]
  },
  {
   "cell_type": "code",
   "execution_count": null,
   "id": "f2bace72-4837-4c92-8222-f9380c63f205",
   "metadata": {},
   "outputs": [],
   "source": []
  }
 ],
 "metadata": {
  "kernelspec": {
   "display_name": "Python 3 (ipykernel)",
   "language": "python",
   "name": "python3"
  },
  "language_info": {
   "codemirror_mode": {
    "name": "ipython",
    "version": 3
   },
   "file_extension": ".py",
   "mimetype": "text/x-python",
   "name": "python",
   "nbconvert_exporter": "python",
   "pygments_lexer": "ipython3",
   "version": "3.12.4"
  }
 },
 "nbformat": 4,
 "nbformat_minor": 5
}
